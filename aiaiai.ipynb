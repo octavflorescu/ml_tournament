{
 "cells": [
  {
   "cell_type": "code",
   "execution_count": 1,
   "metadata": {},
   "outputs": [],
   "source": [
    "# ! pip install -r requirements.txt"
   ]
  },
  {
   "cell_type": "code",
   "execution_count": 1,
   "metadata": {},
   "outputs": [],
   "source": [
    "API_URL=\"http://116.202.111.229:8000\"\n",
    "API_KEY=\"Ir7nzlSO3ZBEdGV59Ll0FMVtPsNd85Cz\"\n",
    "DATA_PATH = '/root/HBN/Tournament/DS/'\n",
    "CACHE_DIR = '/workspace/octavf'"
   ]
  },
  {
   "cell_type": "markdown",
   "metadata": {},
   "source": [
    "# TOURNAMENT"
   ]
  },
  {
   "cell_type": "code",
   "execution_count": 2,
   "metadata": {},
   "outputs": [
    {
     "name": "stdout",
     "output_type": "stream",
     "text": [
      "Token has not been saved to git credential helper. Pass `add_to_git_credential=True` if you want to set the git credential as well.\n",
      "Token is valid (permission: read).\n",
      "Your token has been saved to /root/.cache/huggingface/token\n",
      "Login successful\n"
     ]
    },
    {
     "name": "stderr",
     "output_type": "stream",
     "text": [
      "The `load_in_4bit` and `load_in_8bit` arguments are deprecated and will be removed in the future versions. Please, pass a `BitsAndBytesConfig` object in `quantization_config` argument instead.\n"
     ]
    },
    {
     "data": {
      "application/vnd.jupyter.widget-view+json": {
       "model_id": "88a3a9afcacd4f5cbc4265c695ae9842",
       "version_major": 2,
       "version_minor": 0
      },
      "text/plain": [
       "Loading checkpoint shards:   0%|          | 0/2 [00:00<?, ?it/s]"
      ]
     },
     "metadata": {},
     "output_type": "display_data"
    }
   ],
   "source": [
    "from evaluator import Evaluator\n",
    "from api_client import APIClient\n",
    "\n",
    "ev = Evaluator(api_url=API_URL, api_key=API_KEY, api_client=APIClient(API_URL, API_KEY),\n",
    "               DATA_PATH=DATA_PATH, cache_dir=CACHE_DIR)"
   ]
  },
  {
   "cell_type": "code",
   "execution_count": 3,
   "metadata": {},
   "outputs": [],
   "source": [
    "# ev.api_client.get_next_hint_for_current_company()\n",
    "# ev.api_client.reset_current_context()"
   ]
  },
  {
   "cell_type": "code",
   "execution_count": 4,
   "metadata": {},
   "outputs": [
    {
     "name": "stdout",
     "output_type": "stream",
     "text": [
      "200 {'company_id': 149, 'level': 1, 'hint': 'Black Diamond Pumping'}\n"
     ]
    },
    {
     "name": "stderr",
     "output_type": "stream",
     "text": [
      "Setting `pad_token_id` to `eos_token_id`:2 for open-end generation.\n",
      "/root/.env/lib/python3.10/site-packages/bitsandbytes/nn/modules.py:426: UserWarning: Input type into Linear4bit is torch.float16, but bnb_4bit_compute_dtype=torch.float32 (default). This will lead to slow inference or training speed.\n",
      "  warnings.warn(\n"
     ]
    },
    {
     "name": "stdout",
     "output_type": "stream",
     "text": [
      "Answered {'answer': 'Building Material and Garden Equipment and Supplies Dealers'}\n",
      "Verdict 200 {'result': 'wrong', 'score': -50.0, 'answer': '562 Waste Management and Remediation Services'}\n",
      "200 {'company_id': 149, 'level': 2, 'hint': 'Septic System Installs | Septic Inspection | Waste Water Treatment | Service Provider | Fully Licensed and Insured | Maintenance Services'}\n"
     ]
    },
    {
     "name": "stderr",
     "output_type": "stream",
     "text": [
      "Setting `pad_token_id` to `eos_token_id`:2 for open-end generation.\n"
     ]
    },
    {
     "name": "stdout",
     "output_type": "stream",
     "text": [
      "Answered {'answer': 'Waste Management and Remediation Services'}\n",
      "Verdict 200 {'result': 'correct', 'score': 400.0, 'answer': '562 Waste Management and Remediation Services'}\n",
      "200 {'company_id': 149, 'level': 3, 'hint': 'Black Diamond Pumping specializes in Colorado Front Range septic pumping, installation and inspection. We serve Brighton, Fort Lupton and the surrounding areas.'}\n"
     ]
    },
    {
     "name": "stderr",
     "output_type": "stream",
     "text": [
      "Setting `pad_token_id` to `eos_token_id`:2 for open-end generation.\n"
     ]
    },
    {
     "name": "stdout",
     "output_type": "stream",
     "text": [
      "Answered {'answer': 'Waste Management and Remediation Services'}\n",
      "Verdict 200 {'result': 'correct', 'score': 300.0, 'answer': '562 Waste Management and Remediation Services'}\n",
      "200 {'company_id': 149, 'level': 4, 'hint': 'Black Diamond Pumping is a family-owned septic company based in Colorado that specializes in septic pumping, maintenance, installation, and inspection services for both residential and commercial customers in Brighton, Fort Lupton, and the surrounding areas. With over 20 years of industry experience, they offer a complete range of septic system services, including required pumping, general maintenance, waste water treatment, and inspections. They are fully equipped to handle tanks of all sizes and can service any septic tank along the front range of Northern Colorado. Black Diamond Pumpling is known for their fast, clean, and reliable services and guarantees to meet and exceed customer expectations.'}\n"
     ]
    },
    {
     "name": "stderr",
     "output_type": "stream",
     "text": [
      "Setting `pad_token_id` to `eos_token_id`:2 for open-end generation.\n"
     ]
    },
    {
     "name": "stdout",
     "output_type": "stream",
     "text": [
      "Answered {'answer': 'Repair and Maintenance'}\n",
      "Verdict 200 {'result': 'wrong', 'score': -200.0, 'answer': '562 Waste Management and Remediation Services'}\n",
      "200 {'company_id': 149, 'level': 5, 'hint': 'Garbage Collection & Waste Disposal'}\n"
     ]
    },
    {
     "name": "stderr",
     "output_type": "stream",
     "text": [
      "Setting `pad_token_id` to `eos_token_id`:2 for open-end generation.\n"
     ]
    },
    {
     "name": "stdout",
     "output_type": "stream",
     "text": [
      "Answered {'answer': 'Waste Management and Remediation Services'}\n",
      "Verdict 200 {'result': 'correct', 'score': 100.0, 'answer': '562 Waste Management and Remediation Services'}\n",
      "200 {'response': 'Wait for 99.76085495948792 seconds'}\n"
     ]
    }
   ],
   "source": [
    "ev.evaluate(sleep=True)"
   ]
  },
  {
   "cell_type": "markdown",
   "metadata": {},
   "source": [
    "# CHALLENGE"
   ]
  },
  {
   "cell_type": "code",
   "execution_count": 3,
   "metadata": {},
   "outputs": [
    {
     "ename": "NameError",
     "evalue": "name 'CACHE_DIR' is not defined",
     "output_type": "error",
     "traceback": [
      "\u001b[0;31m---------------------------------------------------------------------------\u001b[0m",
      "\u001b[0;31mNameError\u001b[0m                                 Traceback (most recent call last)",
      "Cell \u001b[0;32mIn[3], line 7\u001b[0m\n\u001b[1;32m      4\u001b[0m \u001b[38;5;28;01mimport\u001b[39;00m \u001b[38;5;21;01mnumpy\u001b[39;00m \u001b[38;5;28;01mas\u001b[39;00m \u001b[38;5;21;01mnp\u001b[39;00m\n\u001b[1;32m      5\u001b[0m \u001b[38;5;28;01mfrom\u001b[39;00m \u001b[38;5;21;01mcollections\u001b[39;00m \u001b[38;5;28;01mimport\u001b[39;00m defaultdict\n\u001b[0;32m----> 7\u001b[0m model \u001b[38;5;241m=\u001b[39m AutoModelForCausalLM\u001b[38;5;241m.\u001b[39mfrom_pretrained(\u001b[38;5;124m\"\u001b[39m\u001b[38;5;124mmistralai/Mistral-7B-v0.1\u001b[39m\u001b[38;5;124m\"\u001b[39m, device_map\u001b[38;5;241m=\u001b[39m\u001b[38;5;124m\"\u001b[39m\u001b[38;5;124mauto\u001b[39m\u001b[38;5;124m\"\u001b[39m, load_in_4bit\u001b[38;5;241m=\u001b[39m\u001b[38;5;28;01mTrue\u001b[39;00m, cache_dir\u001b[38;5;241m=\u001b[39m\u001b[43mCACHE_DIR\u001b[49m)\n\u001b[1;32m      8\u001b[0m tokenizer \u001b[38;5;241m=\u001b[39m AutoTokenizer\u001b[38;5;241m.\u001b[39mfrom_pretrained(\u001b[38;5;124m\"\u001b[39m\u001b[38;5;124mmistralai/Mistral-7B-v0.1\u001b[39m\u001b[38;5;124m\"\u001b[39m, padding_side\u001b[38;5;241m=\u001b[39m\u001b[38;5;124m\"\u001b[39m\u001b[38;5;124mleft\u001b[39m\u001b[38;5;124m\"\u001b[39m, cache_dir\u001b[38;5;241m=\u001b[39mCACHE_DIR)\n\u001b[1;32m      9\u001b[0m tokenizer \u001b[38;5;241m=\u001b[39m TokenizerWrapper(tokenizer, model)\n",
      "\u001b[0;31mNameError\u001b[0m: name 'CACHE_DIR' is not defined"
     ]
    }
   ],
   "source": [
    "from classifier import NAICSClassifier, TokenizerWrapper\n",
    "from transformers import AutoModelForCausalLM, AutoTokenizer\n",
    "import pandas as pd\n",
    "import numpy as np\n",
    "from collections import defaultdict\n",
    "\n",
    "model = AutoModelForCausalLM.from_pretrained(\"mistralai/Mistral-7B-v0.1\", device_map=\"auto\", load_in_4bit=True, cache_dir=CACHE_DIR)\n",
    "tokenizer = AutoTokenizer.from_pretrained(\"mistralai/Mistral-7B-v0.1\", padding_side=\"left\", cache_dir=CACHE_DIR)\n",
    "tokenizer = TokenizerWrapper(tokenizer, model)\n",
    "n2 = NAICSClassifier(tokenizer=tokenizer, naics_df=f'/{DATA_PATH}/ml_tournament/resources/NAICS2_324254.csv')\n",
    "naics2_df = pd.read_csv(f\"{DATA_PATH}/ml_tournament/resources/NAICS2_324254.csv\")\n",
    "naics4_df = pd.read_csv(f\"{DATA_PATH}/ml_tournament/resources/NAICS4_324254.csv\")\n",
    "naics6_df = pd.read_csv(f\"{DATA_PATH}/ml_tournament/resources/NAICS6_324254.csv\")\n",
    "\n",
    "company_hints = []\n",
    "response = defaultdict(str)\n",
    "\n",
    "n2_classes_scores = n2.classify_list_of_hints(company_hints)\n",
    "naics_code = naics2_df[naics2_df['naics_label'] == n2.naics3_choices[np.argmax(n2_classes_scores)]]['naics_code']\n",
    "response['naics2'] = naics_code\n",
    "\n",
    "# based on the result, n4:\n",
    "n4 = NAICSClassifier(tokenizer=tokenizer, \n",
    "                     naics_df=naics4_df[naics4_df['naics_code'].apply(lambda subnsc: subnsc.startswith(naics_code))])\n",
    "n4_classes_scores = n4.classify_list_of_hints(company_hints)\n",
    "naics_code = naics4_df[naics4_df['naics_label'] == n4.naics3_choices[np.argmax(n4_classes_scores)]]['naics_code']\n",
    "response['naics4'] = naics_code\n",
    "\n",
    "# based on the result, n6:\n",
    "n6 = NAICSClassifier(tokenizer=tokenizer, \n",
    "                     naics_df=naics6_df[naics6_df['naics_code'].apply(lambda subnsc: subnsc.startswith(naics_code))])\n",
    "\n",
    "n6_classes_scores = n6.classify_list_of_hints(company_hints)\n",
    "naics_code = naics6_df[naics6_df['naics_label'] == n6.naics3_choices[np.argmax(n6_classes_scores)]]['naics_code']\n",
    "response['naics6'] = naics_code\n",
    "\n",
    "print(response)\n"
   ]
  },
  {
   "cell_type": "code",
   "execution_count": null,
   "metadata": {},
   "outputs": [],
   "source": []
  }
 ],
 "metadata": {
  "kernelspec": {
   "display_name": ".env",
   "language": "python",
   "name": "python3"
  },
  "language_info": {
   "codemirror_mode": {
    "name": "ipython",
    "version": 3
   },
   "file_extension": ".py",
   "mimetype": "text/x-python",
   "name": "python",
   "nbconvert_exporter": "python",
   "pygments_lexer": "ipython3",
   "version": "3.10.12"
  }
 },
 "nbformat": 4,
 "nbformat_minor": 2
}
