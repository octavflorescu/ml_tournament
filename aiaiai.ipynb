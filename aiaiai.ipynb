{
 "cells": [
  {
   "cell_type": "code",
   "execution_count": 1,
   "metadata": {},
   "outputs": [],
   "source": [
    "# ! pip install -r requirements.txt"
   ]
  },
  {
   "cell_type": "code",
   "execution_count": 1,
   "metadata": {},
   "outputs": [],
   "source": [
    "API_URL=\"http://116.202.111.229:8000\"\n",
    "API_KEY=\"Ir7nzlSO3ZBEdGV59Ll0FMVtPsNd85Cz\"\n",
    "DATA_PATH = '/root/HBN/Tournament/DS/'\n",
    "CACHE_DIR = '/workspace/octavf'"
   ]
  },
  {
   "cell_type": "markdown",
   "metadata": {},
   "source": [
    "# TOURNAMENT"
   ]
  },
  {
   "cell_type": "code",
   "execution_count": 2,
   "metadata": {},
   "outputs": [
    {
     "name": "stdout",
     "output_type": "stream",
     "text": [
      "Token has not been saved to git credential helper. Pass `add_to_git_credential=True` if you want to set the git credential as well.\n",
      "Token is valid (permission: read).\n",
      "Your token has been saved to /root/.cache/huggingface/token\n",
      "Login successful\n"
     ]
    },
    {
     "name": "stderr",
     "output_type": "stream",
     "text": [
      "The `load_in_4bit` and `load_in_8bit` arguments are deprecated and will be removed in the future versions. Please, pass a `BitsAndBytesConfig` object in `quantization_config` argument instead.\n"
     ]
    },
    {
     "data": {
      "application/vnd.jupyter.widget-view+json": {
       "model_id": "e9fa0f80d6b0431db76ce66d61935b63",
       "version_major": 2,
       "version_minor": 0
      },
      "text/plain": [
       "Loading checkpoint shards:   0%|          | 0/2 [00:00<?, ?it/s]"
      ]
     },
     "metadata": {},
     "output_type": "display_data"
    }
   ],
   "source": [
    "from evaluator import Evaluator\n",
    "from api_client import APIClient\n",
    "\n",
    "ev = Evaluator(api_url=API_URL, api_key=API_KEY, api_client=APIClient(API_URL, API_KEY),\n",
    "               DATA_PATH=DATA_PATH, cache_dir=CACHE_DIR)"
   ]
  },
  {
   "cell_type": "code",
   "execution_count": 3,
   "metadata": {},
   "outputs": [],
   "source": [
    "import time\n",
    "# ev.api_client.get_next_hint_for_current_company()\n",
    "# ev.api_client.reset_current_context()"
   ]
  },
  {
   "cell_type": "code",
   "execution_count": 5,
   "metadata": {},
   "outputs": [
    {
     "name": "stdout",
     "output_type": "stream",
     "text": [
      "200 {'company_id': 149, 'level': 1, 'hint': 'Black Diamond Pumping'}\n"
     ]
    },
    {
     "name": "stderr",
     "output_type": "stream",
     "text": [
      "Setting `pad_token_id` to `eos_token_id`:2 for open-end generation.\n"
     ]
    },
    {
     "name": "stdout",
     "output_type": "stream",
     "text": [
      "Answered {'answer': 'Building Material and Garden Equipment and Supplies Dealers'}\n",
      "Verdict 200 {'result': 'wrong', 'score': -50.0, 'answer': '562 Waste Management and Remediation Services'}\n",
      "200 {'company_id': 149, 'level': 2, 'hint': 'Septic System Installs | Septic Inspection | Waste Water Treatment | Service Provider | Fully Licensed and Insured | Maintenance Services'}\n"
     ]
    },
    {
     "name": "stderr",
     "output_type": "stream",
     "text": [
      "Setting `pad_token_id` to `eos_token_id`:2 for open-end generation.\n"
     ]
    },
    {
     "name": "stdout",
     "output_type": "stream",
     "text": [
      "Answered {'answer': 'Waste Management and Remediation Services'}\n",
      "Verdict 200 {'result': 'correct', 'score': 400.0, 'answer': '562 Waste Management and Remediation Services'}\n",
      "200 {'company_id': 149, 'level': 3, 'hint': 'Black Diamond Pumping specializes in Colorado Front Range septic pumping, installation and inspection. We serve Brighton, Fort Lupton and the surrounding areas.'}\n"
     ]
    },
    {
     "name": "stderr",
     "output_type": "stream",
     "text": [
      "Setting `pad_token_id` to `eos_token_id`:2 for open-end generation.\n"
     ]
    },
    {
     "name": "stdout",
     "output_type": "stream",
     "text": [
      "Answered {'answer': 'Waste Management and Remediation Services'}\n",
      "Verdict 200 {'result': 'correct', 'score': 300.0, 'answer': '562 Waste Management and Remediation Services'}\n",
      "200 {'company_id': 149, 'level': 4, 'hint': 'Black Diamond Pumping is a family-owned septic company based in Colorado that specializes in septic pumping, maintenance, installation, and inspection services for both residential and commercial customers in Brighton, Fort Lupton, and the surrounding areas. With over 20 years of industry experience, they offer a complete range of septic system services, including required pumping, general maintenance, waste water treatment, and inspections. They are fully equipped to handle tanks of all sizes and can service any septic tank along the front range of Northern Colorado. Black Diamond Pumpling is known for their fast, clean, and reliable services and guarantees to meet and exceed customer expectations.'}\n"
     ]
    },
    {
     "name": "stderr",
     "output_type": "stream",
     "text": [
      "Setting `pad_token_id` to `eos_token_id`:2 for open-end generation.\n"
     ]
    },
    {
     "name": "stdout",
     "output_type": "stream",
     "text": [
      "Answered {'answer': 'Repair and Maintenance'}\n",
      "Verdict 200 {'result': 'wrong', 'score': -200.0, 'answer': '562 Waste Management and Remediation Services'}\n",
      "200 {'company_id': 149, 'level': 5, 'hint': 'Garbage Collection & Waste Disposal'}\n"
     ]
    },
    {
     "name": "stderr",
     "output_type": "stream",
     "text": [
      "Setting `pad_token_id` to `eos_token_id`:2 for open-end generation.\n"
     ]
    },
    {
     "name": "stdout",
     "output_type": "stream",
     "text": [
      "Answered {'answer': 'Waste Management and Remediation Services'}\n",
      "Verdict 200 {'result': 'correct', 'score': 100.0, 'answer': '562 Waste Management and Remediation Services'}\n",
      "200 {'response': 'OK'}\n"
     ]
    }
   ],
   "source": [
    "ev.evaluate(sleep=True)"
   ]
  },
  {
   "cell_type": "code",
   "execution_count": 4,
   "metadata": {},
   "outputs": [
    {
     "name": "stdout",
     "output_type": "stream",
     "text": [
      "200 {'company_id': 29, 'level': 1, 'hint': 'Bieganek Insurance'}\n"
     ]
    },
    {
     "name": "stderr",
     "output_type": "stream",
     "text": [
      "Setting `pad_token_id` to `eos_token_id`:2 for open-end generation.\n",
      "/root/.env/lib/python3.10/site-packages/bitsandbytes/nn/modules.py:426: UserWarning: Input type into Linear4bit is torch.float16, but bnb_4bit_compute_dtype=torch.float32 (default). This will lead to slow inference or training speed.\n",
      "  warnings.warn(\n"
     ]
    },
    {
     "name": "stdout",
     "output_type": "stream",
     "text": [
      "Answered {'answer': 'Funds, Trusts, and Other Financial Vehicles'}\n",
      "Verdict 200 {'result': 'wrong', 'score': -50.0, 'answer': '524 Insurance Carriers and Related Activities'}\n",
      "200 {'company_id': 29, 'level': 2, 'hint': 'Fish House Insurance | Insurance Coverage Selection | Bonds Insurance | Preparation for The Future Assistance | Independent Insurance Agency Services | Flood Insurance | Seasonal Cabin Coverage | Umbrella Insurance | Specially Designed Policies for Farm Properties | Workers Compensation Insurance | Rental Reimbursement | Collector Car Insurance | Collision and Liability Coverage | Snowmobile Insurance | Insurance Settlements Assistance | Personal Belongings Coverage | Commercial Insurance | Motorcycle Insurance | RV and Camper Insurance | Towing Coverage | Discounts for Qualifying Individuals | Insurance Evaluation and Creation'}\n"
     ]
    },
    {
     "name": "stderr",
     "output_type": "stream",
     "text": [
      "Setting `pad_token_id` to `eos_token_id`:2 for open-end generation.\n"
     ]
    },
    {
     "name": "stdout",
     "output_type": "stream",
     "text": [
      "Answered {'answer': 'Securities, Commodity Contracts, and Other Financial Investments and Related Activities'}\n",
      "Verdict 200 {'result': 'wrong', 'score': -100.0, 'answer': '524 Insurance Carriers and Related Activities'}\n",
      "200 {'company_id': 29, 'level': 3, 'hint': 'Bieganek Insurance and Randall State Insurance are independent insurance agencies under the umbrella of Nelson Agencies Inc owned by Ben Nelson.'}\n"
     ]
    },
    {
     "name": "stderr",
     "output_type": "stream",
     "text": [
      "Setting `pad_token_id` to `eos_token_id`:2 for open-end generation.\n"
     ]
    },
    {
     "name": "stdout",
     "output_type": "stream",
     "text": [
      "Answered {'answer': 'Securities, Commodity Contracts, and Other Financial Investments and Related Activities'}\n",
      "Verdict 200 {'result': 'wrong', 'score': -150.0, 'answer': '524 Insurance Carriers and Related Activities'}\n",
      "200 {'company_id': 29, 'level': 4, 'hint': \"Bieganek Insurance is an independent insurance agency that has been providing personalized service in Little Falls and Randall for over 50 years. They offer a variety of options in insurance company selection and coverage, including auto, home, farm, business, and life insurance. As an independent agent, they evaluate their clients' present insurance situation and requirements, act on their behalf in insurance claim settlements, and help them determine the best insurance plan for their needs. They also provide education and information regarding new services and products available, and connect clients with resources that go beyond their insurance policy. The agency has a team of insurance professionals with the most important credentials and designations and is committed to finding the best affordable coverage for their clients.\"}\n"
     ]
    },
    {
     "name": "stderr",
     "output_type": "stream",
     "text": [
      "Setting `pad_token_id` to `eos_token_id`:2 for open-end generation.\n"
     ]
    },
    {
     "name": "stdout",
     "output_type": "stream",
     "text": [
      "Answered {'answer': 'Animal Production and Aquaculture'}\n",
      "Verdict 200 {'result': 'wrong', 'score': -200.0, 'answer': '524 Insurance Carriers and Related Activities'}\n",
      "200 {'company_id': 29, 'level': 5, 'hint': 'Insurance - Agents, Carriers & Brokers'}\n"
     ]
    },
    {
     "name": "stderr",
     "output_type": "stream",
     "text": [
      "Setting `pad_token_id` to `eos_token_id`:2 for open-end generation.\n"
     ]
    },
    {
     "name": "stdout",
     "output_type": "stream",
     "text": [
      "Answered {'answer': 'Insurance Carriers and Related Activities'}\n",
      "Verdict 200 {'result': 'correct', 'score': 100.0, 'answer': '524 Insurance Carriers and Related Activities'}\n",
      "200 {'response': 'OK'}\n",
      "200 {'company_id': 60, 'level': 1, 'hint': 'AXS Investments'}\n"
     ]
    },
    {
     "name": "stderr",
     "output_type": "stream",
     "text": [
      "Setting `pad_token_id` to `eos_token_id`:2 for open-end generation.\n"
     ]
    },
    {
     "name": "stdout",
     "output_type": "stream",
     "text": [
      "Answered {'answer': 'Securities, Commodity Contracts, and Other Financial Investments and Related Activities'}\n",
      "Verdict 200 {'result': 'wrong', 'score': -50.0, 'answer': '525 Funds, Trusts, and Other Financial Vehicles'}\n",
      "200 {'company_id': 60, 'level': 2, 'hint': 'Investment Managers | Financial Wellness Commitment | Principal Loss | Single Stock Leveraged Etfs | Liquid and Transparent Funds | A Diversified Fund of Funds Platform | Speculative Investments | High Net Worth Investors | Investor-friendly Etfs | AXS 2X Innovation ETF | Transparent and Liquid Strategies | Portfolio Outcome Improvement | Alternative Investments for Enhanced Investor Outcomes | High Degree of Risk | Alternative Portfolio Strategies'}\n"
     ]
    },
    {
     "name": "stderr",
     "output_type": "stream",
     "text": [
      "Setting `pad_token_id` to `eos_token_id`:2 for open-end generation.\n"
     ]
    },
    {
     "name": "stdout",
     "output_type": "stream",
     "text": [
      "Answered {'answer': 'Securities, Commodity Contracts, and Other Financial Investments and Related Activities'}\n",
      "Verdict 200 {'result': 'wrong', 'score': -100.0, 'answer': '525 Funds, Trusts, and Other Financial Vehicles'}\n",
      "200 {'company_id': 60, 'level': 3, 'hint': 'AXS Investments is a leading asset management firm empowering investors to diversify their portfolios with alternative strategies, much like those available to the largest institutional and high net worth investors.'}\n"
     ]
    },
    {
     "name": "stderr",
     "output_type": "stream",
     "text": [
      "Setting `pad_token_id` to `eos_token_id`:2 for open-end generation.\n"
     ]
    },
    {
     "name": "stdout",
     "output_type": "stream",
     "text": [
      "Answered {'answer': 'Securities, Commodity Contracts, and Other Financial Investments and Related Activities'}\n",
      "Verdict 200 {'result': 'wrong', 'score': -150.0, 'answer': '525 Funds, Trusts, and Other Financial Vehicles'}\n",
      "200 {'company_id': 60, 'level': 4, 'hint': 'AXS Investments is an asset management firm that offers alternative investments to enhance investor outcomes. They provide access to institutional-quality alternative investments and education to drive improved portfolio outcomes for individual investors, financial advisors, family offices, and others seeking alternatives to traditional equity and fixed income investments. Their investor-friendly funds are time-tested, liquid, and transparent, sub-advised by top institutional investment managers with long and strong track records. They work closely with financial advisors to provide education and investment insights to enhance the understanding of alternative investments, their structure, and the many ways in which they can improve portfolio outcomes. AXS Investments was founded on the vision to create positive economic impact and long-term value for investors and for the communities in which their clients live and work.'}\n"
     ]
    },
    {
     "name": "stderr",
     "output_type": "stream",
     "text": [
      "Setting `pad_token_id` to `eos_token_id`:2 for open-end generation.\n"
     ]
    },
    {
     "name": "stdout",
     "output_type": "stream",
     "text": [
      "Answered {'answer': 'Securities, Commodity Contracts, and Other Financial Investments and Related Activities'}\n",
      "Verdict 200 {'result': 'wrong', 'score': -200.0, 'answer': '525 Funds, Trusts, and Other Financial Vehicles'}\n",
      "200 {'company_id': 60, 'level': 5, 'hint': 'Investment Consultants & Financial Advisors'}\n"
     ]
    },
    {
     "name": "stderr",
     "output_type": "stream",
     "text": [
      "Setting `pad_token_id` to `eos_token_id`:2 for open-end generation.\n"
     ]
    },
    {
     "name": "stdout",
     "output_type": "stream",
     "text": [
      "Answered {'answer': 'Securities, Commodity Contracts, and Other Financial Investments and Related Activities'}\n",
      "Verdict 200 {'result': 'wrong', 'score': -250.0, 'answer': '525 Funds, Trusts, and Other Financial Vehicles'}\n",
      "200 {'response': 'Wait for 283.65902733802795 seconds'}\n",
      "200 {'company_id': 60, 'level': 1, 'hint': 'AXS Investments'}\n"
     ]
    },
    {
     "name": "stderr",
     "output_type": "stream",
     "text": [
      "Setting `pad_token_id` to `eos_token_id`:2 for open-end generation.\n"
     ]
    },
    {
     "name": "stdout",
     "output_type": "stream",
     "text": [
      "Answered {'answer': 'Securities, Commodity Contracts, and Other Financial Investments and Related Activities'}\n",
      "Verdict 200 {'result': 'wrong', 'score': -50.0, 'answer': '525 Funds, Trusts, and Other Financial Vehicles'}\n",
      "200 {'company_id': 60, 'level': 2, 'hint': 'Investment Managers | Financial Wellness Commitment | Principal Loss | Single Stock Leveraged Etfs | Liquid and Transparent Funds | A Diversified Fund of Funds Platform | Speculative Investments | High Net Worth Investors | Investor-friendly Etfs | AXS 2X Innovation ETF | Transparent and Liquid Strategies | Portfolio Outcome Improvement | Alternative Investments for Enhanced Investor Outcomes | High Degree of Risk | Alternative Portfolio Strategies'}\n"
     ]
    },
    {
     "name": "stderr",
     "output_type": "stream",
     "text": [
      "Setting `pad_token_id` to `eos_token_id`:2 for open-end generation.\n"
     ]
    },
    {
     "name": "stdout",
     "output_type": "stream",
     "text": [
      "Answered {'answer': 'Securities, Commodity Contracts, and Other Financial Investments and Related Activities'}\n",
      "Verdict 200 {'result': 'wrong', 'score': -100.0, 'answer': '525 Funds, Trusts, and Other Financial Vehicles'}\n",
      "200 {'company_id': 60, 'level': 3, 'hint': 'AXS Investments is a leading asset management firm empowering investors to diversify their portfolios with alternative strategies, much like those available to the largest institutional and high net worth investors.'}\n"
     ]
    },
    {
     "name": "stderr",
     "output_type": "stream",
     "text": [
      "Setting `pad_token_id` to `eos_token_id`:2 for open-end generation.\n"
     ]
    },
    {
     "name": "stdout",
     "output_type": "stream",
     "text": [
      "Answered {'answer': 'Securities, Commodity Contracts, and Other Financial Investments and Related Activities'}\n",
      "Verdict 200 {'result': 'wrong', 'score': -150.0, 'answer': '525 Funds, Trusts, and Other Financial Vehicles'}\n",
      "200 {'company_id': 60, 'level': 4, 'hint': 'AXS Investments is an asset management firm that offers alternative investments to enhance investor outcomes. They provide access to institutional-quality alternative investments and education to drive improved portfolio outcomes for individual investors, financial advisors, family offices, and others seeking alternatives to traditional equity and fixed income investments. Their investor-friendly funds are time-tested, liquid, and transparent, sub-advised by top institutional investment managers with long and strong track records. They work closely with financial advisors to provide education and investment insights to enhance the understanding of alternative investments, their structure, and the many ways in which they can improve portfolio outcomes. AXS Investments was founded on the vision to create positive economic impact and long-term value for investors and for the communities in which their clients live and work.'}\n"
     ]
    },
    {
     "name": "stderr",
     "output_type": "stream",
     "text": [
      "Setting `pad_token_id` to `eos_token_id`:2 for open-end generation.\n"
     ]
    },
    {
     "name": "stdout",
     "output_type": "stream",
     "text": [
      "Answered {'answer': 'Securities, Commodity Contracts, and Other Financial Investments and Related Activities'}\n",
      "Verdict 200 {'result': 'wrong', 'score': -200.0, 'answer': '525 Funds, Trusts, and Other Financial Vehicles'}\n",
      "200 {'company_id': 60, 'level': 5, 'hint': 'Investment Consultants & Financial Advisors'}\n"
     ]
    },
    {
     "name": "stderr",
     "output_type": "stream",
     "text": [
      "Setting `pad_token_id` to `eos_token_id`:2 for open-end generation.\n"
     ]
    },
    {
     "name": "stdout",
     "output_type": "stream",
     "text": [
      "Answered {'answer': 'Securities, Commodity Contracts, and Other Financial Investments and Related Activities'}\n",
      "Verdict 200 {'result': 'wrong', 'score': -250.0, 'answer': '525 Funds, Trusts, and Other Financial Vehicles'}\n",
      "200 {'response': 'Wait for 267.29712867736816 seconds'}\n",
      "200 {'company_id': 60, 'level': 1, 'hint': 'AXS Investments'}\n"
     ]
    },
    {
     "name": "stderr",
     "output_type": "stream",
     "text": [
      "Setting `pad_token_id` to `eos_token_id`:2 for open-end generation.\n"
     ]
    },
    {
     "name": "stdout",
     "output_type": "stream",
     "text": [
      "Answered {'answer': 'Securities, Commodity Contracts, and Other Financial Investments and Related Activities'}\n",
      "Verdict 200 {'result': 'wrong', 'score': -50.0, 'answer': '525 Funds, Trusts, and Other Financial Vehicles'}\n",
      "200 {'company_id': 60, 'level': 2, 'hint': 'Investment Managers | Financial Wellness Commitment | Principal Loss | Single Stock Leveraged Etfs | Liquid and Transparent Funds | A Diversified Fund of Funds Platform | Speculative Investments | High Net Worth Investors | Investor-friendly Etfs | AXS 2X Innovation ETF | Transparent and Liquid Strategies | Portfolio Outcome Improvement | Alternative Investments for Enhanced Investor Outcomes | High Degree of Risk | Alternative Portfolio Strategies'}\n"
     ]
    },
    {
     "name": "stderr",
     "output_type": "stream",
     "text": [
      "Setting `pad_token_id` to `eos_token_id`:2 for open-end generation.\n"
     ]
    },
    {
     "name": "stdout",
     "output_type": "stream",
     "text": [
      "Answered {'answer': 'Securities, Commodity Contracts, and Other Financial Investments and Related Activities'}\n",
      "Verdict 200 {'result': 'wrong', 'score': -100.0, 'answer': '525 Funds, Trusts, and Other Financial Vehicles'}\n",
      "200 {'company_id': 60, 'level': 3, 'hint': 'AXS Investments is a leading asset management firm empowering investors to diversify their portfolios with alternative strategies, much like those available to the largest institutional and high net worth investors.'}\n"
     ]
    },
    {
     "name": "stderr",
     "output_type": "stream",
     "text": [
      "Setting `pad_token_id` to `eos_token_id`:2 for open-end generation.\n"
     ]
    },
    {
     "name": "stdout",
     "output_type": "stream",
     "text": [
      "Answered {'answer': 'Securities, Commodity Contracts, and Other Financial Investments and Related Activities'}\n",
      "Verdict 200 {'result': 'wrong', 'score': -150.0, 'answer': '525 Funds, Trusts, and Other Financial Vehicles'}\n",
      "200 {'company_id': 60, 'level': 4, 'hint': 'AXS Investments is an asset management firm that offers alternative investments to enhance investor outcomes. They provide access to institutional-quality alternative investments and education to drive improved portfolio outcomes for individual investors, financial advisors, family offices, and others seeking alternatives to traditional equity and fixed income investments. Their investor-friendly funds are time-tested, liquid, and transparent, sub-advised by top institutional investment managers with long and strong track records. They work closely with financial advisors to provide education and investment insights to enhance the understanding of alternative investments, their structure, and the many ways in which they can improve portfolio outcomes. AXS Investments was founded on the vision to create positive economic impact and long-term value for investors and for the communities in which their clients live and work.'}\n"
     ]
    },
    {
     "name": "stderr",
     "output_type": "stream",
     "text": [
      "Setting `pad_token_id` to `eos_token_id`:2 for open-end generation.\n"
     ]
    },
    {
     "name": "stdout",
     "output_type": "stream",
     "text": [
      "Answered {'answer': 'Securities, Commodity Contracts, and Other Financial Investments and Related Activities'}\n",
      "Verdict 200 {'result': 'wrong', 'score': -200.0, 'answer': '525 Funds, Trusts, and Other Financial Vehicles'}\n",
      "200 {'company_id': 60, 'level': 5, 'hint': 'Investment Consultants & Financial Advisors'}\n"
     ]
    },
    {
     "name": "stderr",
     "output_type": "stream",
     "text": [
      "Setting `pad_token_id` to `eos_token_id`:2 for open-end generation.\n"
     ]
    },
    {
     "name": "stdout",
     "output_type": "stream",
     "text": [
      "Answered {'answer': 'Securities, Commodity Contracts, and Other Financial Investments and Related Activities'}\n",
      "Verdict 200 {'result': 'wrong', 'score': -250.0, 'answer': '525 Funds, Trusts, and Other Financial Vehicles'}\n",
      "200 {'response': 'Wait for 250.99439001083374 seconds'}\n",
      "200 {'company_id': 60, 'level': 1, 'hint': 'AXS Investments'}\n"
     ]
    },
    {
     "name": "stderr",
     "output_type": "stream",
     "text": [
      "Setting `pad_token_id` to `eos_token_id`:2 for open-end generation.\n"
     ]
    },
    {
     "name": "stdout",
     "output_type": "stream",
     "text": [
      "Answered {'answer': 'Securities, Commodity Contracts, and Other Financial Investments and Related Activities'}\n",
      "Verdict 200 {'result': 'wrong', 'score': -50.0, 'answer': '525 Funds, Trusts, and Other Financial Vehicles'}\n",
      "200 {'company_id': 60, 'level': 2, 'hint': 'Investment Managers | Financial Wellness Commitment | Principal Loss | Single Stock Leveraged Etfs | Liquid and Transparent Funds | A Diversified Fund of Funds Platform | Speculative Investments | High Net Worth Investors | Investor-friendly Etfs | AXS 2X Innovation ETF | Transparent and Liquid Strategies | Portfolio Outcome Improvement | Alternative Investments for Enhanced Investor Outcomes | High Degree of Risk | Alternative Portfolio Strategies'}\n"
     ]
    },
    {
     "name": "stderr",
     "output_type": "stream",
     "text": [
      "Setting `pad_token_id` to `eos_token_id`:2 for open-end generation.\n"
     ]
    },
    {
     "name": "stdout",
     "output_type": "stream",
     "text": [
      "Answered {'answer': 'Securities, Commodity Contracts, and Other Financial Investments and Related Activities'}\n",
      "Verdict 200 {'result': 'wrong', 'score': -100.0, 'answer': '525 Funds, Trusts, and Other Financial Vehicles'}\n",
      "200 {'company_id': 60, 'level': 3, 'hint': 'AXS Investments is a leading asset management firm empowering investors to diversify their portfolios with alternative strategies, much like those available to the largest institutional and high net worth investors.'}\n"
     ]
    },
    {
     "name": "stderr",
     "output_type": "stream",
     "text": [
      "Setting `pad_token_id` to `eos_token_id`:2 for open-end generation.\n"
     ]
    },
    {
     "name": "stdout",
     "output_type": "stream",
     "text": [
      "Answered {'answer': 'Securities, Commodity Contracts, and Other Financial Investments and Related Activities'}\n",
      "Verdict 200 {'result': 'wrong', 'score': -150.0, 'answer': '525 Funds, Trusts, and Other Financial Vehicles'}\n",
      "200 {'company_id': 60, 'level': 4, 'hint': 'AXS Investments is an asset management firm that offers alternative investments to enhance investor outcomes. They provide access to institutional-quality alternative investments and education to drive improved portfolio outcomes for individual investors, financial advisors, family offices, and others seeking alternatives to traditional equity and fixed income investments. Their investor-friendly funds are time-tested, liquid, and transparent, sub-advised by top institutional investment managers with long and strong track records. They work closely with financial advisors to provide education and investment insights to enhance the understanding of alternative investments, their structure, and the many ways in which they can improve portfolio outcomes. AXS Investments was founded on the vision to create positive economic impact and long-term value for investors and for the communities in which their clients live and work.'}\n"
     ]
    },
    {
     "name": "stderr",
     "output_type": "stream",
     "text": [
      "Setting `pad_token_id` to `eos_token_id`:2 for open-end generation.\n"
     ]
    },
    {
     "name": "stdout",
     "output_type": "stream",
     "text": [
      "Answered {'answer': 'Securities, Commodity Contracts, and Other Financial Investments and Related Activities'}\n",
      "Verdict 200 {'result': 'wrong', 'score': -200.0, 'answer': '525 Funds, Trusts, and Other Financial Vehicles'}\n",
      "200 {'company_id': 60, 'level': 5, 'hint': 'Investment Consultants & Financial Advisors'}\n"
     ]
    },
    {
     "name": "stderr",
     "output_type": "stream",
     "text": [
      "Setting `pad_token_id` to `eos_token_id`:2 for open-end generation.\n"
     ]
    },
    {
     "name": "stdout",
     "output_type": "stream",
     "text": [
      "Answered {'answer': 'Securities, Commodity Contracts, and Other Financial Investments and Related Activities'}\n",
      "Verdict 200 {'result': 'wrong', 'score': -250.0, 'answer': '525 Funds, Trusts, and Other Financial Vehicles'}\n",
      "200 {'response': 'Wait for 234.6539478302002 seconds'}\n",
      "200 {'company_id': 60, 'level': 1, 'hint': 'AXS Investments'}\n"
     ]
    },
    {
     "name": "stderr",
     "output_type": "stream",
     "text": [
      "Setting `pad_token_id` to `eos_token_id`:2 for open-end generation.\n"
     ]
    },
    {
     "name": "stdout",
     "output_type": "stream",
     "text": [
      "Answered {'answer': 'Securities, Commodity Contracts, and Other Financial Investments and Related Activities'}\n",
      "Verdict 200 {'result': 'wrong', 'score': -50.0, 'answer': '525 Funds, Trusts, and Other Financial Vehicles'}\n",
      "200 {'company_id': 60, 'level': 2, 'hint': 'Investment Managers | Financial Wellness Commitment | Principal Loss | Single Stock Leveraged Etfs | Liquid and Transparent Funds | A Diversified Fund of Funds Platform | Speculative Investments | High Net Worth Investors | Investor-friendly Etfs | AXS 2X Innovation ETF | Transparent and Liquid Strategies | Portfolio Outcome Improvement | Alternative Investments for Enhanced Investor Outcomes | High Degree of Risk | Alternative Portfolio Strategies'}\n"
     ]
    },
    {
     "name": "stderr",
     "output_type": "stream",
     "text": [
      "Setting `pad_token_id` to `eos_token_id`:2 for open-end generation.\n"
     ]
    },
    {
     "name": "stdout",
     "output_type": "stream",
     "text": [
      "Answered {'answer': 'Securities, Commodity Contracts, and Other Financial Investments and Related Activities'}\n",
      "Verdict 200 {'result': 'wrong', 'score': -100.0, 'answer': '525 Funds, Trusts, and Other Financial Vehicles'}\n",
      "200 {'company_id': 60, 'level': 3, 'hint': 'AXS Investments is a leading asset management firm empowering investors to diversify their portfolios with alternative strategies, much like those available to the largest institutional and high net worth investors.'}\n"
     ]
    },
    {
     "name": "stderr",
     "output_type": "stream",
     "text": [
      "Setting `pad_token_id` to `eos_token_id`:2 for open-end generation.\n"
     ]
    },
    {
     "name": "stdout",
     "output_type": "stream",
     "text": [
      "Answered {'answer': 'Securities, Commodity Contracts, and Other Financial Investments and Related Activities'}\n",
      "Verdict 200 {'result': 'wrong', 'score': -150.0, 'answer': '525 Funds, Trusts, and Other Financial Vehicles'}\n",
      "200 {'company_id': 60, 'level': 4, 'hint': 'AXS Investments is an asset management firm that offers alternative investments to enhance investor outcomes. They provide access to institutional-quality alternative investments and education to drive improved portfolio outcomes for individual investors, financial advisors, family offices, and others seeking alternatives to traditional equity and fixed income investments. Their investor-friendly funds are time-tested, liquid, and transparent, sub-advised by top institutional investment managers with long and strong track records. They work closely with financial advisors to provide education and investment insights to enhance the understanding of alternative investments, their structure, and the many ways in which they can improve portfolio outcomes. AXS Investments was founded on the vision to create positive economic impact and long-term value for investors and for the communities in which their clients live and work.'}\n"
     ]
    },
    {
     "name": "stderr",
     "output_type": "stream",
     "text": [
      "Setting `pad_token_id` to `eos_token_id`:2 for open-end generation.\n"
     ]
    },
    {
     "name": "stdout",
     "output_type": "stream",
     "text": [
      "Answered {'answer': 'Securities, Commodity Contracts, and Other Financial Investments and Related Activities'}\n",
      "Verdict 200 {'result': 'wrong', 'score': -200.0, 'answer': '525 Funds, Trusts, and Other Financial Vehicles'}\n"
     ]
    },
    {
     "ename": "KeyboardInterrupt",
     "evalue": "",
     "output_type": "error",
     "traceback": [
      "\u001b[0;31m---------------------------------------------------------------------------\u001b[0m",
      "\u001b[0;31mKeyboardInterrupt\u001b[0m                         Traceback (most recent call last)",
      "Cell \u001b[0;32mIn[4], line 4\u001b[0m\n\u001b[1;32m      2\u001b[0m \u001b[38;5;28;01mtry\u001b[39;00m:\n\u001b[1;32m      3\u001b[0m     \u001b[38;5;28;01mfor\u001b[39;00m i \u001b[38;5;129;01min\u001b[39;00m \u001b[38;5;28mrange\u001b[39m(\u001b[38;5;241m5\u001b[39m):\n\u001b[0;32m----> 4\u001b[0m         \u001b[43mev\u001b[49m\u001b[38;5;241;43m.\u001b[39;49m\u001b[43mcompete\u001b[49m\u001b[43m(\u001b[49m\u001b[43mround_id\u001b[49m\u001b[38;5;241;43m=\u001b[39;49m\u001b[43mi\u001b[49m\u001b[38;5;241;43m+\u001b[39;49m\u001b[38;5;241;43m1\u001b[39;49m\u001b[43m,\u001b[49m\u001b[43m \u001b[49m\u001b[43msleep\u001b[49m\u001b[38;5;241;43m=\u001b[39;49m\u001b[38;5;28;43;01mTrue\u001b[39;49;00m\u001b[43m)\u001b[49m\n\u001b[1;32m      5\u001b[0m \u001b[38;5;28;01mexcept\u001b[39;00m \u001b[38;5;167;01mException\u001b[39;00m \u001b[38;5;28;01mas\u001b[39;00m ex:\n\u001b[1;32m      6\u001b[0m     \u001b[38;5;28mprint\u001b[39m(ex)\n",
      "File \u001b[0;32m~/ml_tournament/evaluator.py:60\u001b[0m, in \u001b[0;36mEvaluator.compete\u001b[0;34m(self, round_id, sleep)\u001b[0m\n\u001b[1;32m     58\u001b[0m     \u001b[38;5;28mself\u001b[39m\u001b[38;5;241m.\u001b[39mrounds \u001b[38;5;241m=\u001b[39m []\n\u001b[1;32m     59\u001b[0m \u001b[38;5;66;03m# Round 1\u001b[39;00m\n\u001b[0;32m---> 60\u001b[0m \u001b[38;5;28mself\u001b[39m\u001b[38;5;241m.\u001b[39mrounds\u001b[38;5;241m.\u001b[39mappend(\u001b[38;5;28;43mself\u001b[39;49m\u001b[38;5;241;43m.\u001b[39;49m\u001b[43mdo_round\u001b[49m\u001b[43m(\u001b[49m\u001b[43mround_id\u001b[49m\u001b[38;5;241;43m=\u001b[39;49m\u001b[38;5;241;43m1\u001b[39;49m\u001b[43m,\u001b[49m\u001b[43m \u001b[49m\u001b[43msleep\u001b[49m\u001b[38;5;241;43m=\u001b[39;49m\u001b[43msleep\u001b[49m\u001b[43m)\u001b[49m)\n\u001b[1;32m     61\u001b[0m \u001b[38;5;28;01mif\u001b[39;00m round_id \u001b[38;5;241m==\u001b[39m \u001b[38;5;241m5\u001b[39m:\n\u001b[1;32m     62\u001b[0m     \u001b[38;5;28mself\u001b[39m\u001b[38;5;241m.\u001b[39mapi_client\u001b[38;5;241m.\u001b[39mreset_current_context()\n",
      "File \u001b[0;32m~/ml_tournament/evaluator.py:53\u001b[0m, in \u001b[0;36mEvaluator.do_round\u001b[0;34m(self, round_id, sleep)\u001b[0m\n\u001b[1;32m     51\u001b[0m verdict \u001b[38;5;241m=\u001b[39m \u001b[38;5;28mself\u001b[39m\u001b[38;5;241m.\u001b[39mapi_client\u001b[38;5;241m.\u001b[39msend_answer_for_current_company(prediction\u001b[38;5;241m=\u001b[39mgame_round\u001b[38;5;241m.\u001b[39manswer)\n\u001b[1;32m     52\u001b[0m game_round\u001b[38;5;241m.\u001b[39mscore \u001b[38;5;241m=\u001b[39m verdict[\u001b[38;5;124m\"\u001b[39m\u001b[38;5;124mscore\u001b[39m\u001b[38;5;124m\"\u001b[39m]\n\u001b[0;32m---> 53\u001b[0m \u001b[38;5;28;01mif\u001b[39;00m sleep: \u001b[43mtime\u001b[49m\u001b[38;5;241;43m.\u001b[39;49m\u001b[43msleep\u001b[49m\u001b[43m(\u001b[49m\u001b[38;5;241;43m1\u001b[39;49m\u001b[43m)\u001b[49m\n\u001b[1;32m     54\u001b[0m \u001b[38;5;28;01mreturn\u001b[39;00m game_round\n",
      "\u001b[0;31mKeyboardInterrupt\u001b[0m: "
     ]
    }
   ],
   "source": [
    "while True:\n",
    "    try:\n",
    "        for i in range(5):\n",
    "            ev.compete(round_id=i+1, sleep=True)\n",
    "    except Exception as ex:\n",
    "        print(ex)\n",
    "    time.sleep(5)"
   ]
  },
  {
   "cell_type": "markdown",
   "metadata": {},
   "source": [
    "# CHALLENGE"
   ]
  },
  {
   "cell_type": "code",
   "execution_count": 3,
   "metadata": {},
   "outputs": [
    {
     "ename": "NameError",
     "evalue": "name 'CACHE_DIR' is not defined",
     "output_type": "error",
     "traceback": [
      "\u001b[0;31m---------------------------------------------------------------------------\u001b[0m",
      "\u001b[0;31mNameError\u001b[0m                                 Traceback (most recent call last)",
      "Cell \u001b[0;32mIn[3], line 7\u001b[0m\n\u001b[1;32m      4\u001b[0m \u001b[38;5;28;01mimport\u001b[39;00m \u001b[38;5;21;01mnumpy\u001b[39;00m \u001b[38;5;28;01mas\u001b[39;00m \u001b[38;5;21;01mnp\u001b[39;00m\n\u001b[1;32m      5\u001b[0m \u001b[38;5;28;01mfrom\u001b[39;00m \u001b[38;5;21;01mcollections\u001b[39;00m \u001b[38;5;28;01mimport\u001b[39;00m defaultdict\n\u001b[0;32m----> 7\u001b[0m model \u001b[38;5;241m=\u001b[39m AutoModelForCausalLM\u001b[38;5;241m.\u001b[39mfrom_pretrained(\u001b[38;5;124m\"\u001b[39m\u001b[38;5;124mmistralai/Mistral-7B-v0.1\u001b[39m\u001b[38;5;124m\"\u001b[39m, device_map\u001b[38;5;241m=\u001b[39m\u001b[38;5;124m\"\u001b[39m\u001b[38;5;124mauto\u001b[39m\u001b[38;5;124m\"\u001b[39m, load_in_4bit\u001b[38;5;241m=\u001b[39m\u001b[38;5;28;01mTrue\u001b[39;00m, cache_dir\u001b[38;5;241m=\u001b[39m\u001b[43mCACHE_DIR\u001b[49m)\n\u001b[1;32m      8\u001b[0m tokenizer \u001b[38;5;241m=\u001b[39m AutoTokenizer\u001b[38;5;241m.\u001b[39mfrom_pretrained(\u001b[38;5;124m\"\u001b[39m\u001b[38;5;124mmistralai/Mistral-7B-v0.1\u001b[39m\u001b[38;5;124m\"\u001b[39m, padding_side\u001b[38;5;241m=\u001b[39m\u001b[38;5;124m\"\u001b[39m\u001b[38;5;124mleft\u001b[39m\u001b[38;5;124m\"\u001b[39m, cache_dir\u001b[38;5;241m=\u001b[39mCACHE_DIR)\n\u001b[1;32m      9\u001b[0m tokenizer \u001b[38;5;241m=\u001b[39m TokenizerWrapper(tokenizer, model)\n",
      "\u001b[0;31mNameError\u001b[0m: name 'CACHE_DIR' is not defined"
     ]
    }
   ],
   "source": [
    "from classifier import NAICSClassifier, TokenizerWrapper\n",
    "from transformers import AutoModelForCausalLM, AutoTokenizer\n",
    "import pandas as pd\n",
    "import numpy as np\n",
    "from collections import defaultdict\n",
    "\n",
    "model = AutoModelForCausalLM.from_pretrained(\"mistralai/Mistral-7B-v0.1\", device_map=\"auto\", load_in_4bit=True, cache_dir=CACHE_DIR)\n",
    "tokenizer = AutoTokenizer.from_pretrained(\"mistralai/Mistral-7B-v0.1\", padding_side=\"left\", cache_dir=CACHE_DIR)\n",
    "tokenizer = TokenizerWrapper(tokenizer, model)\n",
    "n2 = NAICSClassifier(tokenizer=tokenizer, naics_df=f'/{DATA_PATH}/ml_tournament/resources/NAICS2_324254.csv')\n",
    "naics2_df = pd.read_csv(f\"{DATA_PATH}/ml_tournament/resources/NAICS2_324254.csv\")\n",
    "naics4_df = pd.read_csv(f\"{DATA_PATH}/ml_tournament/resources/NAICS4_324254.csv\")\n",
    "naics6_df = pd.read_csv(f\"{DATA_PATH}/ml_tournament/resources/NAICS6_324254.csv\")\n",
    "\n",
    "company_hints = []\n",
    "response = defaultdict(str)\n",
    "\n",
    "n2_classes_scores = n2.classify_list_of_hints(company_hints)\n",
    "naics_code = naics2_df[naics2_df['naics_label'] == n2.naics3_choices[np.argmax(n2_classes_scores)]]['naics_code']\n",
    "response['naics2'] = naics_code\n",
    "\n",
    "# based on the result, n4:\n",
    "n4 = NAICSClassifier(tokenizer=tokenizer, \n",
    "                     naics_df=naics4_df[naics4_df['naics_code'].apply(lambda subnsc: subnsc.startswith(naics_code))])\n",
    "n4_classes_scores = n4.classify_list_of_hints(company_hints)\n",
    "naics_code = naics4_df[naics4_df['naics_label'] == n4.naics3_choices[np.argmax(n4_classes_scores)]]['naics_code']\n",
    "response['naics4'] = naics_code\n",
    "\n",
    "# based on the result, n6:\n",
    "n6 = NAICSClassifier(tokenizer=tokenizer, \n",
    "                     naics_df=naics6_df[naics6_df['naics_code'].apply(lambda subnsc: subnsc.startswith(naics_code))])\n",
    "\n",
    "n6_classes_scores = n6.classify_list_of_hints(company_hints)\n",
    "naics_code = naics6_df[naics6_df['naics_label'] == n6.naics3_choices[np.argmax(n6_classes_scores)]]['naics_code']\n",
    "response['naics6'] = naics_code\n",
    "\n",
    "print(response)\n"
   ]
  },
  {
   "cell_type": "code",
   "execution_count": null,
   "metadata": {},
   "outputs": [],
   "source": []
  }
 ],
 "metadata": {
  "kernelspec": {
   "display_name": ".env",
   "language": "python",
   "name": "python3"
  },
  "language_info": {
   "codemirror_mode": {
    "name": "ipython",
    "version": 3
   },
   "file_extension": ".py",
   "mimetype": "text/x-python",
   "name": "python",
   "nbconvert_exporter": "python",
   "pygments_lexer": "ipython3",
   "version": "3.10.12"
  }
 },
 "nbformat": 4,
 "nbformat_minor": 2
}
