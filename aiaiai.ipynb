{
 "cells": [
  {
   "cell_type": "code",
   "execution_count": 1,
   "metadata": {},
   "outputs": [],
   "source": [
    "# ! pip install -r requirements.txt"
   ]
  },
  {
   "cell_type": "code",
   "execution_count": 2,
   "metadata": {},
   "outputs": [],
   "source": [
    "API_URL=\"http://116.202.111.229:8000\"\n",
    "API_KEY=\"Ir7nzlSO3ZBEdGV59Ll0FMVtPsNd85Cz\"\n",
    "DATA_PATH = '/root/HBN/Tournament/DS/'\n",
    "CACHE_DIR = '/workspace/octavf'"
   ]
  },
  {
   "cell_type": "code",
   "execution_count": 3,
   "metadata": {},
   "outputs": [
    {
     "name": "stdout",
     "output_type": "stream",
     "text": [
      "Token has not been saved to git credential helper. Pass `add_to_git_credential=True` if you want to set the git credential as well.\n",
      "Token is valid (permission: read).\n",
      "Your token has been saved to /root/.cache/huggingface/token\n",
      "Login successful\n"
     ]
    },
    {
     "name": "stderr",
     "output_type": "stream",
     "text": [
      "The `load_in_4bit` and `load_in_8bit` arguments are deprecated and will be removed in the future versions. Please, pass a `BitsAndBytesConfig` object in `quantization_config` argument instead.\n"
     ]
    },
    {
     "data": {
      "application/vnd.jupyter.widget-view+json": {
       "model_id": "d808ad59432147e68f817661e01f6d63",
       "version_major": 2,
       "version_minor": 0
      },
      "text/plain": [
       "Loading checkpoint shards:   0%|          | 0/2 [00:00<?, ?it/s]"
      ]
     },
     "metadata": {},
     "output_type": "display_data"
    }
   ],
   "source": [
    "from evaluator import Evaluator\n",
    "from api_client import APIClient\n",
    "\n",
    "ev = Evaluator(api_url=API_URL, api_key=API_KEY, api_client=APIClient(API_URL, API_KEY),\n",
    "               DATA_PATH=DATA_PATH, cache_dir=CACHE_DIR)"
   ]
  },
  {
   "cell_type": "code",
   "execution_count": 4,
   "metadata": {},
   "outputs": [],
   "source": [
    "# ev.api_client.get_next_hint_for_current_company()\n",
    "# ev.api_client.reset_current_context()"
   ]
  },
  {
   "cell_type": "code",
   "execution_count": 5,
   "metadata": {},
   "outputs": [
    {
     "name": "stdout",
     "output_type": "stream",
     "text": [
      "200 {'company_id': 109, 'level': 1, 'hint': 'Studio D'}\n"
     ]
    },
    {
     "name": "stderr",
     "output_type": "stream",
     "text": [
      "Setting `pad_token_id` to `eos_token_id`:2 for open-end generation.\n",
      "/root/.env/lib/python3.10/site-packages/bitsandbytes/nn/modules.py:426: UserWarning: Input type into Linear4bit is torch.float16, but bnb_4bit_compute_dtype=torch.float32 (default). This will lead to slow inference or training speed.\n",
      "  warnings.warn(\n"
     ]
    },
    {
     "name": "stdout",
     "output_type": "stream",
     "text": [
      "Answered {'answer': 'Animal Production and Aquaculture'}\n",
      "Verdict 200 {'result': 'wrong', 'score': -50.0, 'answer': '512 Motion Picture and Sound Recording Industries'}\n",
      "200 {'company_id': 109, 'level': 2, 'hint': 'Podcast Production Services | Logistics Planning | Recording Studio Services | Business Growth Services | Launch, Production, Growth, Recording'}\n"
     ]
    },
    {
     "name": "stderr",
     "output_type": "stream",
     "text": [
      "Setting `pad_token_id` to `eos_token_id`:2 for open-end generation.\n"
     ]
    },
    {
     "name": "stdout",
     "output_type": "stream",
     "text": [
      "Answered {'answer': 'Motion Picture and Sound Recording Industries'}\n",
      "Verdict 200 {'result': 'correct', 'score': 400.0, 'answer': '512 Motion Picture and Sound Recording Industries'}\n",
      "200 {'company_id': 109, 'level': 3, 'hint': 'Studio D is a Philadelphia podcast production studio specializing in the Launch, Production, Growth and Recording of your podcast.'}\n"
     ]
    },
    {
     "name": "stderr",
     "output_type": "stream",
     "text": [
      "Setting `pad_token_id` to `eos_token_id`:2 for open-end generation.\n"
     ]
    },
    {
     "name": "stdout",
     "output_type": "stream",
     "text": [
      "Answered {'answer': 'Motion Picture and Sound Recording Industries'}\n",
      "Verdict 200 {'result': 'correct', 'score': 300.0, 'answer': '512 Motion Picture and Sound Recording Industries'}\n",
      "200 {'company_id': 109, 'level': 4, 'hint': 'Studio D Podcast Production is a Philadelphia-based podcast production studio that specializes in podcast launch, recording, production, and growth. The company aims to help businesses improve their brand awareness, lead generation, revenue, and SEO through podcasts. They offer services such as podcast production, growth, and recording to help clients launch their own podcasts.'}\n"
     ]
    },
    {
     "name": "stderr",
     "output_type": "stream",
     "text": [
      "Setting `pad_token_id` to `eos_token_id`:2 for open-end generation.\n"
     ]
    },
    {
     "name": "stdout",
     "output_type": "stream",
     "text": [
      "Answered {'answer': 'Motion Picture and Sound Recording Industries'}\n",
      "Verdict 200 {'result': 'correct', 'score': 200.0, 'answer': '512 Motion Picture and Sound Recording Industries'}\n",
      "200 {'company_id': 109, 'level': 5, 'hint': 'Art & Music Publishers'}\n"
     ]
    },
    {
     "name": "stderr",
     "output_type": "stream",
     "text": [
      "Setting `pad_token_id` to `eos_token_id`:2 for open-end generation.\n"
     ]
    },
    {
     "name": "stdout",
     "output_type": "stream",
     "text": [
      "Answered {'answer': 'Motion Picture and Sound Recording Industries'}\n",
      "Verdict 200 {'result': 'correct', 'score': 100.0, 'answer': '512 Motion Picture and Sound Recording Industries'}\n",
      "200 {'response': 'Wait for 49.161810874938965 seconds'}\n"
     ]
    }
   ],
   "source": [
    "ev.evaluate()"
   ]
  },
  {
   "cell_type": "code",
   "execution_count": null,
   "metadata": {},
   "outputs": [],
   "source": []
  },
  {
   "cell_type": "code",
   "execution_count": null,
   "metadata": {},
   "outputs": [],
   "source": []
  }
 ],
 "metadata": {
  "kernelspec": {
   "display_name": ".env",
   "language": "python",
   "name": "python3"
  },
  "language_info": {
   "codemirror_mode": {
    "name": "ipython",
    "version": 3
   },
   "file_extension": ".py",
   "mimetype": "text/x-python",
   "name": "python",
   "nbconvert_exporter": "python",
   "pygments_lexer": "ipython3",
   "version": "3.10.12"
  }
 },
 "nbformat": 4,
 "nbformat_minor": 2
}
